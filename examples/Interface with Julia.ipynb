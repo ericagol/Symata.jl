{
 "cells": [
  {
   "cell_type": "code",
   "execution_count": 1,
   "metadata": {
    "collapsed": false
   },
   "outputs": [],
   "source": [
    "using Symata"
   ]
  },
  {
   "cell_type": "markdown",
   "metadata": {},
   "source": [
    "# Interface with Julia\n",
    "\n",
    "This notebook gives examples of Symata interacting with its host language Julia."
   ]
  },
  {
   "cell_type": "markdown",
   "metadata": {},
   "source": [
    "## Writing and using Julia functions\n",
    "\n",
    "It is very easy to write elegant, fast, powerful, flexible, Julia code from within Symata.\n",
    "\n",
    "As a first example, we multiply powers of elements in two arrays and sum the results. We first try two different methods using pure Symata. Then we write a Julia function to do the same thing.\n",
    "\n",
    "Here are the arrays."
   ]
  },
  {
   "cell_type": "code",
   "execution_count": 2,
   "metadata": {
    "collapsed": true
   },
   "outputs": [],
   "source": [
    "x1 = Range(10.0^3)\n",
    "y1 = Range(10.0^3);"
   ]
  },
  {
   "cell_type": "markdown",
   "metadata": {},
   "source": [
    "Define a procedural function in Symata to compute the sum."
   ]
  },
  {
   "cell_type": "code",
   "execution_count": 3,
   "metadata": {
    "collapsed": true
   },
   "outputs": [],
   "source": [
    "g(x_, y_) := Module([s=0],\n",
    "        begin\n",
    "          For(i=1, i<=Length(x), i += 1, s += x[i]^2 * y[i]^(-3))\n",
    "          s\n",
    "        end)"
   ]
  },
  {
   "cell_type": "markdown",
   "metadata": {},
   "source": [
    "Apply this function and time the result."
   ]
  },
  {
   "cell_type": "code",
   "execution_count": 4,
   "metadata": {
    "collapsed": false
   },
   "outputs": [
    {
     "data": {
      "text/latex": [
       "$$  \\left[ 0.085392949,7.485470860550343 \\right]  $$"
      ],
      "text/plain": [
       "L\"$$  \\left[ 0.085392949,7.485470860550343 \\right]  $$\""
      ]
     },
     "execution_count": 4,
     "metadata": {},
     "output_type": "execute_result"
    }
   ],
   "source": [
    "g(x1,y1)\n",
    "\n",
    "resultS1 = Timing(g(x1,y1))"
   ]
  },
  {
   "cell_type": "markdown",
   "metadata": {},
   "source": [
    "In general, it is faster to use mapping and functional methods in Symata.\n",
    "We can compute the sum like this."
   ]
  },
  {
   "cell_type": "code",
   "execution_count": 5,
   "metadata": {
    "collapsed": false,
    "scrolled": true
   },
   "outputs": [
    {
     "data": {
      "text/latex": [
       "$$  \\left[ 0.053827639,7.485470860550343 \\right]  $$"
      ],
      "text/plain": [
       "L\"$$  \\left[ 0.053827639,7.485470860550343 \\right]  $$\""
      ]
     },
     "execution_count": 5,
     "metadata": {},
     "output_type": "execute_result"
    }
   ],
   "source": [
    "Apply(Plus, x1^2 / y1^3)\n",
    "\n",
    "resultS2 = Timing(Apply(Plus, x1^2 / y1^3))"
   ]
  },
  {
   "cell_type": "markdown",
   "metadata": {},
   "source": [
    "The second method is indeed a bit faster."
   ]
  },
  {
   "cell_type": "code",
   "execution_count": 6,
   "metadata": {
    "collapsed": false,
    "scrolled": true
   },
   "outputs": [
    {
     "data": {
      "text/latex": [
       "$$ 1.586414536963065 $$"
      ],
      "text/plain": [
       "L\"$$ 1.586414536963065 $$\""
      ]
     },
     "execution_count": 6,
     "metadata": {},
     "output_type": "execute_result"
    }
   ],
   "source": [
    "resultS1[1]/resultS2[1]"
   ]
  },
  {
   "cell_type": "markdown",
   "metadata": {},
   "source": [
    "### Writing a Julia function while in Symata mode\n",
    "\n",
    "Define a Julia function to do the sum. We choose a functional method."
   ]
  },
  {
   "cell_type": "code",
   "execution_count": 7,
   "metadata": {
    "collapsed": false
   },
   "outputs": [],
   "source": [
    "jfunc = J( (x,y) -> sum(u -> u[1]^2 / u[2]^(3), zip(x,y)) );"
   ]
  },
  {
   "cell_type": "code",
   "execution_count": 8,
   "metadata": {
    "collapsed": false
   },
   "outputs": [
    {
     "data": {
      "text/latex": [
       "$$  \\left[ 0.000242831,7.485470860550343 \\right]  $$"
      ],
      "text/plain": [
       "L\"$$  \\left[ 0.000242831,7.485470860550343 \\right]  $$\""
      ]
     },
     "execution_count": 8,
     "metadata": {},
     "output_type": "execute_result"
    }
   ],
   "source": [
    "jfunc(x1,y1)\n",
    "Timing(jfunc(x1,y1))\n",
    "\n",
    "resultJ = Timing(jfunc(x1,y1))"
   ]
  },
  {
   "cell_type": "markdown",
   "metadata": {},
   "source": [
    "The Julia function is much faster."
   ]
  },
  {
   "cell_type": "code",
   "execution_count": 9,
   "metadata": {
    "collapsed": false
   },
   "outputs": [
    {
     "data": {
      "text/latex": [
       "$$  \\left[ 351.6558800153193,221.66708122109614 \\right]  $$"
      ],
      "text/plain": [
       "L\"$$  \\left[ 351.6558800153193,221.66708122109614 \\right]  $$\""
      ]
     },
     "execution_count": 9,
     "metadata": {},
     "output_type": "execute_result"
    }
   ],
   "source": [
    "[resultS1[1], resultS2[1] ] / resultJ[1]"
   ]
  },
  {
   "cell_type": "markdown",
   "metadata": {},
   "source": [
    "We will explain later why it is possible to write such simple and fast code that operates on Symata expressions.\n",
    "\n",
    "The function `f` also works on symbolic expressions."
   ]
  },
  {
   "cell_type": "code",
   "execution_count": 10,
   "metadata": {
    "collapsed": false
   },
   "outputs": [
    {
     "data": {
      "text/latex": [
       "$$ \\frac{ \\left( a + b \\right) ^{2}}{ \\left( u + v \\right) ^{3}} + \\frac{ \\left( c + d \\right) ^{2}}{ \\left( y + z \\right) ^{3}} $$"
      ],
      "text/plain": [
       "L\"$$ \\frac{ \\left( a + b \\right) ^{2}}{ \\left( u + v \\right) ^{3}} + \\frac{ \\left( c + d \\right) ^{2}}{ \\left( y + z \\right) ^{3}} $$\""
      ]
     },
     "execution_count": 10,
     "metadata": {},
     "output_type": "execute_result"
    }
   ],
   "source": [
    "jfunc([a+b, c+d],[u+v,y+z])"
   ]
  },
  {
   "cell_type": "markdown",
   "metadata": {},
   "source": [
    "### Calling an existing Julia function\n",
    "\n",
    "To define the Julia function, we used the Symata function `J()`. The arguments of `J` are interpreted as pure Julia code, with no translation. It is as if we temporarily enter Julia mode. In fact, we could have defined the function in Julia. Let's try that.\n",
    "\n",
    "First, we enter Julia mode."
   ]
  },
  {
   "cell_type": "code",
   "execution_count": 11,
   "metadata": {
    "collapsed": false
   },
   "outputs": [],
   "source": [
    "Julia();"
   ]
  },
  {
   "cell_type": "markdown",
   "metadata": {},
   "source": [
    "Everything we type will be interpreted as Julia language expressions. We write the Julia function. We will explain later how the function works."
   ]
  },
  {
   "cell_type": "code",
   "execution_count": 12,
   "metadata": {
    "collapsed": false
   },
   "outputs": [],
   "source": [
    "fj(x,y) = sum(u -> u[1]^2 / u[2]^(3), zip(x,y));"
   ]
  },
  {
   "cell_type": "markdown",
   "metadata": {},
   "source": [
    "Return to Symata mode."
   ]
  },
  {
   "cell_type": "code",
   "execution_count": 13,
   "metadata": {
    "collapsed": false
   },
   "outputs": [],
   "source": [
    "isymata();"
   ]
  },
  {
   "cell_type": "markdown",
   "metadata": {},
   "source": [
    "We set the Symata variable `fj` to the Julia function `fj`. The Julia function was written in the `Main` module. (NB we may change this so Julia functions are evaluated in the Symata module)"
   ]
  },
  {
   "cell_type": "code",
   "execution_count": 14,
   "metadata": {
    "collapsed": false
   },
   "outputs": [
    {
     "data": {
      "text/latex": [
       "$$ 7.485470860550343 $$"
      ],
      "text/plain": [
       "L\"$$ 7.485470860550343 $$\""
      ]
     },
     "execution_count": 14,
     "metadata": {},
     "output_type": "execute_result"
    }
   ],
   "source": [
    "fj = J( Main.fj );\n",
    "\n",
    "fj(x1,y1)"
   ]
  },
  {
   "cell_type": "markdown",
   "metadata": {},
   "source": [
    "We can use `J()` in this way to call any existing Julia function...\n",
    "\n",
    "    time()\n",
    "\n",
    "      Get the system time in seconds since the epoch, with fairly high (typically,   \n",
    "      microsecond) resolution.\n"
   ]
  },
  {
   "cell_type": "code",
   "execution_count": 15,
   "metadata": {
    "collapsed": false
   },
   "outputs": [
    {
     "data": {
      "text/latex": [
       "$$ 1.479476904124846e9 $$"
      ],
      "text/plain": [
       "L\"$$ 1.479476904124846e9 $$\""
      ]
     },
     "execution_count": 15,
     "metadata": {},
     "output_type": "execute_result"
    }
   ],
   "source": [
    "J(time)()"
   ]
  },
  {
   "cell_type": "markdown",
   "metadata": {},
   "source": [
    "## Julia functions for Symata\n",
    "\n",
    "How does the Julia function \n",
    "```\n",
    "jfunc = (x,y) -> sum(u -> u[1]^2 / u[2]^(3), zip(x,y))\n",
    "```\n",
    "work ?\n",
    "\n",
    "As in Symata, `x -> body` defines a pure, or anonymous, function. `zip` returns a list of pairs of elements from two lists. In fact, it returns a virtual list, called an *iterator*, which is more efficient. These pairs are supplied sequentially to the to the function, and the results are summed. No intermediate arrays are formed.\n",
    "\n",
    "Symata expressions are *iterable objects* in Julia. Most Julia code that operates on iterable objects will work with Symata expressions. `zip` takes two iterable objects and returns an iterable object.\n",
    "In Julia, Symata expressions are of type `Mxpr`. Notice that we did not write `Mxpr` anywhere in the code. The first  time `jfunc` is called with Symata expressions, Julia compiles a method to handle just this case. The compiler is typically very good at writing code optimized for the input type.\n",
    "\n",
    "All of this means that the author of Symata wrote no code to implement `zip` or `sum` for Symata expressions.\n",
    "\n",
    "In fact `jfunc` can be called with many types objects. To demonstrate this, we perform the sum operation on a Symata list and a Julia Array.\n",
    "\n",
    "We set the Symata variable `y2` to a Julia `Array` of 1000 numbers."
   ]
  },
  {
   "cell_type": "code",
   "execution_count": 16,
   "metadata": {
    "collapsed": false
   },
   "outputs": [
    {
     "data": {
      "text/latex": [
       "$$ linspace(1.0,1000.0,1000) $$"
      ],
      "text/plain": [
       "L\"$$ linspace(1.0,1000.0,1000) $$\""
      ]
     },
     "execution_count": 16,
     "metadata": {},
     "output_type": "execute_result"
    }
   ],
   "source": [
    "y2 = J(linspace(1,1000.0,1000))"
   ]
  },
  {
   "cell_type": "markdown",
   "metadata": {},
   "source": [
    "Notice that 1000 numbers were not printed. `linspace` returns a virtual array, that is an iterator. We call `jfunc` twice. The first time, Julia compiles a method for the input types which takes some (not much) time."
   ]
  },
  {
   "cell_type": "code",
   "execution_count": 17,
   "metadata": {
    "collapsed": false
   },
   "outputs": [
    {
     "data": {
      "text/latex": [
       "$$  \\left[ 0.000295813,7.485470860550343 \\right]  $$"
      ],
      "text/plain": [
       "L\"$$  \\left[ 0.000295813,7.485470860550343 \\right]  $$\""
      ]
     },
     "execution_count": 17,
     "metadata": {},
     "output_type": "execute_result"
    }
   ],
   "source": [
    "jfunc(x1,y2)\n",
    "resultJ2 = Timing(jfunc(x1,y2))"
   ]
  },
  {
   "cell_type": "markdown",
   "metadata": {},
   "source": [
    "Notice that summing over the two types of arrays is a bit slower in this case than using two Symata arrays."
   ]
  },
  {
   "cell_type": "code",
   "execution_count": 18,
   "metadata": {
    "collapsed": false,
    "scrolled": true
   },
   "outputs": [
    {
     "data": {
      "text/latex": [
       "$$ 0.8208936050815886 $$"
      ],
      "text/plain": [
       "L\"$$ 0.8208936050815886 $$\""
      ]
     },
     "execution_count": 18,
     "metadata": {},
     "output_type": "execute_result"
    }
   ],
   "source": [
    "resultJ[1]/resultJ2[1]"
   ]
  },
  {
   "cell_type": "markdown",
   "metadata": {},
   "source": [
    "Now we call `jfunc` on two Julia abstract arrays."
   ]
  },
  {
   "cell_type": "code",
   "execution_count": 19,
   "metadata": {
    "collapsed": false
   },
   "outputs": [
    {
     "data": {
      "text/latex": [
       "$$  \\left[ 4.8293e-5,7.485470860550343 \\right]  $$"
      ],
      "text/plain": [
       "L\"$$  \\left[ 4.8293e-5,7.485470860550343 \\right]  $$\""
      ]
     },
     "execution_count": 19,
     "metadata": {},
     "output_type": "execute_result"
    }
   ],
   "source": [
    "jfunc(y2,y2)\n",
    "resultJ3 = Timing(jfunc(y2,y2))"
   ]
  },
  {
   "cell_type": "markdown",
   "metadata": {},
   "source": [
    "Operating on these Julia arrays is about 10 times faster in this case than including a Symata array."
   ]
  },
  {
   "cell_type": "code",
   "execution_count": 20,
   "metadata": {
    "collapsed": false
   },
   "outputs": [
    {
     "data": {
      "text/latex": [
       "$$ 6.125380489926077 $$"
      ],
      "text/plain": [
       "L\"$$ 6.125380489926077 $$\""
      ]
     },
     "execution_count": 20,
     "metadata": {},
     "output_type": "execute_result"
    }
   ],
   "source": [
    "resultJ2[1]/resultJ3[1]"
   ]
  },
  {
   "cell_type": "markdown",
   "metadata": {},
   "source": [
    "### `Unpack`:   Importing Julia arrays into Symata\n",
    "\n",
    "Recall the abstract Julia array that we created above"
   ]
  },
  {
   "cell_type": "code",
   "execution_count": 29,
   "metadata": {
    "collapsed": false
   },
   "outputs": [
    {
     "data": {
      "text/latex": [
       "$$ linspace(1.0,1000.0,1000) $$"
      ],
      "text/plain": [
       "L\"$$ linspace(1.0,1000.0,1000) $$\""
      ]
     },
     "execution_count": 29,
     "metadata": {},
     "output_type": "execute_result"
    }
   ],
   "source": [
    "y2"
   ]
  },
  {
   "cell_type": "markdown",
   "metadata": {},
   "source": [
    "We import `y2` into Symata using `Unpack`. (`Unpack` currently works only with one dimensional arrays.)"
   ]
  },
  {
   "cell_type": "code",
   "execution_count": 30,
   "metadata": {
    "collapsed": false
   },
   "outputs": [],
   "source": [
    "y3 = Unpack(y2);"
   ]
  },
  {
   "cell_type": "markdown",
   "metadata": {},
   "source": [
    "The result is a Symata list. We check that it is indeed a list of the expected length and the first and last elements."
   ]
  },
  {
   "cell_type": "code",
   "execution_count": 28,
   "metadata": {
    "collapsed": false
   },
   "outputs": [
    {
     "data": {
      "text/latex": [
       "$$  \\left[ \\text{List},1000,1.0,1000.0 \\right]  $$"
      ],
      "text/plain": [
       "L\"$$  \\left[ \\text{List},1000,1.0,1000.0 \\right]  $$\""
      ]
     },
     "execution_count": 28,
     "metadata": {},
     "output_type": "execute_result"
    }
   ],
   "source": [
    "[Head(y3), Length(y3), y3[1], y3[-1]]"
   ]
  },
  {
   "cell_type": "markdown",
   "metadata": {},
   "source": [
    "`y3` is equal to `y1`, which was created with Range."
   ]
  },
  {
   "cell_type": "code",
   "execution_count": 32,
   "metadata": {
    "collapsed": false,
    "scrolled": true
   },
   "outputs": [
    {
     "data": {
      "text/latex": [
       "$$ \\text{True} $$"
      ],
      "text/plain": [
       "L\"$$ \\text{True} $$\""
      ]
     },
     "execution_count": 32,
     "metadata": {},
     "output_type": "execute_result"
    }
   ],
   "source": [
    "y3 == y1 == Range(10.0^3)"
   ]
  },
  {
   "cell_type": "markdown",
   "metadata": {},
   "source": [
    "`y3` is not a `packed` array, but an ordinary Symata array, a list."
   ]
  },
  {
   "cell_type": "code",
   "execution_count": 48,
   "metadata": {
    "collapsed": false,
    "scrolled": true
   },
   "outputs": [
    {
     "data": {
      "text/latex": [
       "$$ \\text{\"cat\"} $$"
      ],
      "text/plain": [
       "L\"$$ \\text{\\\"cat\\\"} $$\""
      ]
     },
     "execution_count": 48,
     "metadata": {},
     "output_type": "execute_result"
    }
   ],
   "source": [
    "y3[1] = \"cat\""
   ]
  },
  {
   "cell_type": "code",
   "execution_count": 49,
   "metadata": {
    "collapsed": false
   },
   "outputs": [
    {
     "data": {
      "text/latex": [
       "$$  \\left[ \\text{\"cat\"},2.0,3.0,4.0,5.0,6.0,7.0,8.0,9.0,10.0 \\right]  $$"
      ],
      "text/plain": [
       "L\"$$  \\left[ \\text{\\\"cat\\\"},2.0,3.0,4.0,5.0,6.0,7.0,8.0,9.0,10.0 \\right]  $$\""
      ]
     },
     "execution_count": 49,
     "metadata": {},
     "output_type": "execute_result"
    }
   ],
   "source": [
    "y3[1:10]"
   ]
  },
  {
   "cell_type": "markdown",
   "metadata": {},
   "source": [
    "Of course, we can unpack not just abstract Julia arrays, but physical arrays as well. The Julia function for converting an abstract array to a physical array is `collect`."
   ]
  },
  {
   "cell_type": "code",
   "execution_count": 35,
   "metadata": {
    "collapsed": true
   },
   "outputs": [],
   "source": [
    "y4 = J(collect)(y2);"
   ]
  },
  {
   "cell_type": "markdown",
   "metadata": {},
   "source": [
    "Notice what we did here. `J(collect)` gets a Symata reference to the Julia function `collect`. We then call the imported function on the Symata variable `y2`, which refers to an abstract Julia array.\n",
    "\n",
    "Now we have a physical Julia array"
   ]
  },
  {
   "cell_type": "code",
   "execution_count": 38,
   "metadata": {
    "collapsed": false
   },
   "outputs": [
    {
     "data": {
      "text/latex": [
       "$$  \\left[ \\text{Array{Float64,1}},1000.0 \\right]  $$"
      ],
      "text/plain": [
       "L\"$$  \\left[ \\text{Array{Float64,1}},1000.0 \\right]  $$\""
      ]
     },
     "execution_count": 38,
     "metadata": {},
     "output_type": "execute_result"
    }
   ],
   "source": [
    "[Head(y4), y4[-1]]"
   ]
  },
  {
   "cell_type": "markdown",
   "metadata": {},
   "source": [
    "You can also construct a Symata expression directly in Julia, like this."
   ]
  },
  {
   "cell_type": "code",
   "execution_count": 56,
   "metadata": {
    "collapsed": true
   },
   "outputs": [],
   "source": [
    "y5 = J(mxpr(:List, Any[collect(linspace(1.0,1000,1000))...]));"
   ]
  },
  {
   "cell_type": "code",
   "execution_count": 44,
   "metadata": {
    "collapsed": false,
    "scrolled": true
   },
   "outputs": [
    {
     "data": {
      "text/latex": [
       "$$  \\left[ \\text{List},1000.0 \\right]  $$"
      ],
      "text/plain": [
       "L\"$$  \\left[ \\text{List},1000.0 \\right]  $$\""
      ]
     },
     "execution_count": 44,
     "metadata": {},
     "output_type": "execute_result"
    }
   ],
   "source": [
    "[Head(y5), y5[-1]]"
   ]
  },
  {
   "cell_type": "markdown",
   "metadata": {},
   "source": [
    "### `Pack`:   Converting Symata arrays to Julia arrays.\n",
    "\n",
    "\n",
    "Recall that `y1` and `y3` are both Symata lists."
   ]
  },
  {
   "cell_type": "code",
   "execution_count": 52,
   "metadata": {
    "collapsed": false,
    "scrolled": true
   },
   "outputs": [
    {
     "data": {
      "text/latex": [
       "$$  \\left[ \\text{List},\\text{List} \\right]  $$"
      ],
      "text/plain": [
       "L\"$$  \\left[ \\text{List},\\text{List} \\right]  $$\""
      ]
     },
     "execution_count": 52,
     "metadata": {},
     "output_type": "execute_result"
    }
   ],
   "source": [
    "[Head(y1), Head(y3)]"
   ]
  },
  {
   "cell_type": "markdown",
   "metadata": {},
   "source": [
    "We unpack these lists to Julia arrays like this."
   ]
  },
  {
   "cell_type": "code",
   "execution_count": 54,
   "metadata": {
    "collapsed": true
   },
   "outputs": [],
   "source": [
    "y6 = Pack(y1)\n",
    "y7 = Pack(y3);"
   ]
  },
  {
   "cell_type": "markdown",
   "metadata": {},
   "source": [
    "What type of object was created ?"
   ]
  },
  {
   "cell_type": "code",
   "execution_count": 55,
   "metadata": {
    "collapsed": false
   },
   "outputs": [
    {
     "data": {
      "text/latex": [
       "$$  \\left[ \\text{Array{Float64,1}},\\text{Array{Any,1}} \\right]  $$"
      ],
      "text/plain": [
       "L\"$$  \\left[ \\text{Array{Float64,1}},\\text{Array{Any,1}} \\right]  $$\""
      ]
     },
     "execution_count": 55,
     "metadata": {},
     "output_type": "execute_result"
    }
   ],
   "source": [
    "[Head(y6), Head(y7)]"
   ]
  },
  {
   "cell_type": "markdown",
   "metadata": {},
   "source": [
    "The first array is of type `Float64` and the second of type `Any`. They are different because, while all elements of `y1` are floating point numbers, we set the first element of `y7` to `\"cat\"`. When copying arrays, Julia creates a container of the most specific type that will contain all elements."
   ]
  },
  {
   "cell_type": "code",
   "execution_count": null,
   "metadata": {
    "collapsed": true
   },
   "outputs": [],
   "source": []
  }
 ],
 "metadata": {
  "kernelspec": {
   "display_name": "Julia 0.6.0-dev",
   "language": "julia",
   "name": "julia-0.6"
  },
  "language_info": {
   "file_extension": ".jl",
   "mimetype": "application/julia",
   "name": "julia",
   "version": "0.6.0"
  }
 },
 "nbformat": 4,
 "nbformat_minor": 1
}
